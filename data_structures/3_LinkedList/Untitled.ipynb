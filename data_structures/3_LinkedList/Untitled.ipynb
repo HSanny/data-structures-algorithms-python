{
 "cells": [
  {
   "cell_type": "code",
   "execution_count": 15,
   "id": "88347b6c-dd08-46fc-ac9b-da139bbcf90c",
   "metadata": {
    "tags": []
   },
   "outputs": [],
   "source": [
    "class Node:\n",
    "    def __init__(self, data=None, next=None):\n",
    "        self.data = data\n",
    "        self.next = next\n",
    "\n",
    "class SinglyLinkedList:\n",
    "    def __init__(self):\n",
    "        self.head = None # first node is None\n",
    "    \n",
    "    def append(self,data):\n",
    "        new_node = Node(data)\n",
    "        if self.head is None:\n",
    "            self.head = new_node\n",
    "            return # exit the method, no need to proceed further\n",
    "        # if the list is not empty, we find the last node to insert\n",
    "        last_node = self.head\n",
    "        # start with head node\n",
    "        # checks if the current node (last_node) points to another node (next). \n",
    "        # If it does, we move to that next node. \n",
    "        while last_node.next:\n",
    "            last_node = last_node.next\n",
    "        last_node.next = new_node # append new node\n",
    "\n",
    "    def insert_at_end(self, data):\n",
    "        if self.head is None:\n",
    "            self.head = Node(data, None)\n",
    "            return\n",
    "        current_node = self.head\n",
    "        while current_node.next:\n",
    "            current_node = current_node.next\n",
    "        current_node.next = Node(data, None)\n",
    "        \n",
    "    \n",
    "    def new_list(self, data_list):\n",
    "        for data in data_list:\n",
    "            self.insert_at_end(data)\n",
    "\n",
    "        \n",
    "    def print_list(self):\n",
    "        current_node = self.head\n",
    "        str_list = []\n",
    "        while current_node:\n",
    "            str_list.append(str(current_node.data) + ' -> ')\n",
    "            current_node = current_node.next\n",
    "        str_list.append('None') # indicate end of list\n",
    "        print(''.join(str_list))\n",
    "    \n",
    "    def insert_after_value(self, data_after, data_to_insert):\n",
    "        # if empty list\n",
    "        if self.head is None:\n",
    "            print('Error! The list is empty!')\n",
    "            return\n",
    "        \n",
    "        # iterate through list\n",
    "        current_node = self.head\n",
    "        print('1')\n",
    "        while current_node:\n",
    "            print('current_node.data', current_node.data)\n",
    "            print('current_node.next', current_node.next)\n",
    "            if current_node.data == data_after:\n",
    "                current_node.next == Node(data_to_insert, self.head.next)\n",
    "                return\n",
    "            current_node = current_node.next\n",
    "            "
   ]
  },
  {
   "cell_type": "code",
   "execution_count": 16,
   "id": "48f55d1a-5575-4178-8dd6-ba9ab3b0d8ec",
   "metadata": {
    "tags": []
   },
   "outputs": [
    {
     "name": "stdout",
     "output_type": "stream",
     "text": [
      "my linked list:\n",
      "10 -> 20 -> 30 -> None\n"
     ]
    }
   ],
   "source": [
    "my_linked_list = SinglyLinkedList()\n",
    "my_linked_list.append(10)\n",
    "my_linked_list.append(20)\n",
    "my_linked_list.append(30)\n",
    "print('my linked list:')\n",
    "my_linked_list.print_list()      "
   ]
  },
  {
   "cell_type": "code",
   "execution_count": 17,
   "id": "e05e18c8-ef06-4196-9494-2bbabf91a02d",
   "metadata": {},
   "outputs": [
    {
     "name": "stdout",
     "output_type": "stream",
     "text": [
      "['banana', 'mango', 'grapes', 'orange'] -> None\n",
      "1\n",
      "current_node.data ['banana', 'mango', 'grapes', 'orange']\n",
      "current_node.next None\n",
      "['banana', 'mango', 'grapes', 'orange'] -> None\n"
     ]
    }
   ],
   "source": [
    "ll = SinglyLinkedList()\n",
    "ll.append([\"banana\",\"mango\",\"grapes\",\"orange\"])\n",
    "ll.print_list()\n",
    "ll.insert_after_value(\"mango\",\"apple\") # insert apple after mango\n",
    "ll.print_list()"
   ]
  },
  {
   "cell_type": "code",
   "execution_count": null,
   "id": "e467fea5-89b2-4563-9226-4dff2319acd8",
   "metadata": {},
   "outputs": [],
   "source": []
  }
 ],
 "metadata": {
  "kernelspec": {
   "display_name": "Python 3 (ipykernel)",
   "language": "python",
   "name": "python3"
  },
  "language_info": {
   "codemirror_mode": {
    "name": "ipython",
    "version": 3
   },
   "file_extension": ".py",
   "mimetype": "text/x-python",
   "name": "python",
   "nbconvert_exporter": "python",
   "pygments_lexer": "ipython3",
   "version": "3.11.5"
  }
 },
 "nbformat": 4,
 "nbformat_minor": 5
}
