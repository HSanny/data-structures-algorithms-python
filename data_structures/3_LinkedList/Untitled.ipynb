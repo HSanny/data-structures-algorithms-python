{
 "cells": [
  {
   "cell_type": "code",
   "execution_count": 8,
   "id": "88347b6c-dd08-46fc-ac9b-da139bbcf90c",
   "metadata": {
    "tags": []
   },
   "outputs": [],
   "source": [
    "class Node:\n",
    "    def __init__(self, data=None, next=None):\n",
    "        self.data = data\n",
    "        self.next = next\n",
    "\n",
    "class SinglyLinkedList:\n",
    "    def __init__(self):\n",
    "        self.head = None # first node is None\n",
    "    \n",
    "    def append(self,data):\n",
    "        new_node = Node(data)\n",
    "        if self.head is None:\n",
    "            self.head = new_node\n",
    "            return # exit the method, no need to proceed further\n",
    "        # if the list is not empty, we find the last node to insert\n",
    "        last_node = self.head\n",
    "        # start with head node\n",
    "        # checks if the current node (last_node) points to another node (next). \n",
    "        # If it does, we move to that next node. \n",
    "        while last_node.next:\n",
    "            last_node = last_node.next\n",
    "        last_node.next = new_node # append new node\n",
    "    \n",
    "    def print_list(self):\n",
    "        current_node = self.head\n",
    "        str_list = []\n",
    "        while current_node:\n",
    "            str_list.append(str(current_node.data) + ' -> ')\n",
    "            current_node = current_node.next\n",
    "        str_list.append('None') # indicate end of list\n",
    "        print(''.join(str_list))\n",
    "    \n",
    "    def insert_after_value(self, data_after, data_to_insert):\n",
    "        "
   ]
  },
  {
   "cell_type": "code",
   "execution_count": 9,
   "id": "48f55d1a-5575-4178-8dd6-ba9ab3b0d8ec",
   "metadata": {
    "tags": []
   },
   "outputs": [
    {
     "name": "stdout",
     "output_type": "stream",
     "text": [
      "my linked list:\n",
      "10 -> 20 -> 30 -> None\n"
     ]
    }
   ],
   "source": [
    "my_linked_list = SinglyLinkedList()\n",
    "my_linked_list.append(10)\n",
    "my_linked_list.append(20)\n",
    "my_linked_list.append(30)\n",
    "print('my linked list:')\n",
    "my_linked_list.print_list()      "
   ]
  },
  {
   "cell_type": "code",
   "execution_count": null,
   "id": "e05e18c8-ef06-4196-9494-2bbabf91a02d",
   "metadata": {},
   "outputs": [],
   "source": []
  }
 ],
 "metadata": {
  "kernelspec": {
   "display_name": "Python 3 (ipykernel)",
   "language": "python",
   "name": "python3"
  },
  "language_info": {
   "codemirror_mode": {
    "name": "ipython",
    "version": 3
   },
   "file_extension": ".py",
   "mimetype": "text/x-python",
   "name": "python",
   "nbconvert_exporter": "python",
   "pygments_lexer": "ipython3",
   "version": "3.11.5"
  }
 },
 "nbformat": 4,
 "nbformat_minor": 5
}
