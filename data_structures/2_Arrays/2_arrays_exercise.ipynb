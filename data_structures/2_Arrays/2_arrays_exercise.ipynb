{
 "cells": [
  {
   "cell_type": "code",
   "execution_count": 27,
   "id": "860b213d-9955-459c-9bc4-843085d2db3c",
   "metadata": {},
   "outputs": [],
   "source": [
    "class MonthlyExpense:\n",
    "    def __init__(self, month, expense):\n",
    "        self.month = month\n",
    "        self.expense = expense\n",
    "\n",
    "    def __repr__(self):\n",
    "        #return f'MonthlyExpense('{self.month}',{self.amount})'\n",
    "        return f\"MonthlyExpense('{self.month}',{self.expense})\"\n",
    "\n",
    "monthly_expense = [\n",
    "    MonthlyExpense('January', 2200),\n",
    "    MonthlyExpense('February', 2350),\n",
    "    MonthlyExpense('March', 2600),\n",
    "    MonthlyExpense('April', 2130),\n",
    "    MonthlyExpense('May', 2190),\n",
    "]"
   ]
  },
  {
   "cell_type": "markdown",
   "id": "c073cc23-e79b-4d54-a31f-da88388aa1d4",
   "metadata": {},
   "source": [
    "1. In Feb, how many dollars you spent extra compare to January?"
   ]
  },
  {
   "cell_type": "code",
   "execution_count": 23,
   "id": "0dafebc8-112d-48e8-ae29-25d5133cc0a4",
   "metadata": {},
   "outputs": [
    {
     "name": "stdout",
     "output_type": "stream",
     "text": [
      "150 dollars were spent in Feb compare to Jan\n"
     ]
    }
   ],
   "source": [
    "jan_exp = next((expense.expense for expense in monthly_expense if expense.month == 'January'), None)\n",
    "feb_exp = next((expense.expense for expense in monthly_expense if expense.month == 'February'), None)\n",
    "\n",
    "if jan_exp is not None and feb_exp is not None:\n",
    "    extra = feb_exp - jan_exp\n",
    "    print(extra, 'dollars were spent in Feb compare to Jan')"
   ]
  },
  {
   "cell_type": "markdown",
   "id": "07ccc163-1486-40d3-9807-795feb9a701e",
   "metadata": {},
   "source": [
    "2. Find out your total expense in first quarter (first three months) of the year."
   ]
  },
  {
   "cell_type": "code",
   "execution_count": 24,
   "id": "5d384eac-4a08-46a1-a16a-b024d8048e3c",
   "metadata": {},
   "outputs": [
    {
     "name": "stdout",
     "output_type": "stream",
     "text": [
      "Total expense in 1st quarter of the year:  7150\n"
     ]
    }
   ],
   "source": [
    "first_quar_exp = 0\n",
    "for expense in monthly_expense[:3]:\n",
    "    first_quar_exp += expense.expense\n",
    "print('Total expense in 1st quarter of the year: ', first_quar_exp)"
   ]
  },
  {
   "cell_type": "markdown",
   "id": "059adb92-58e3-4020-8ae8-4670581e8a1e",
   "metadata": {},
   "source": [
    "3. Find out if you spent exactly 2000 dollars in any month"
   ]
  },
  {
   "cell_type": "code",
   "execution_count": 25,
   "id": "1ea53f8f-0615-4027-bbb7-d53dc733f3df",
   "metadata": {},
   "outputs": [
    {
     "name": "stdout",
     "output_type": "stream",
     "text": [
      "No, I did not spend exactly 2000 dollars in any month\n"
     ]
    }
   ],
   "source": [
    "exact_2000 = next((expense.month for expense in monthly_expense if expense.expense == 2000), None)\n",
    "\n",
    "if exact_2000 is not None:\n",
    "    print('Yes, I spent exactly 2000 dollars in ', exact_2000)\n",
    "else:\n",
    "    print('No, I did not spend exactly 2000 dollars in any month')"
   ]
  },
  {
   "cell_type": "markdown",
   "id": "8fcfe25c-a230-4d54-bfea-5bfdecb4c43e",
   "metadata": {},
   "source": [
    " 4. June month just finished and your expense is 1980 dollar. Add this item to our monthly expense list"
   ]
  },
  {
   "cell_type": "code",
   "execution_count": 28,
   "id": "81085525-25ca-499d-a660-d68670951008",
   "metadata": {},
   "outputs": [
    {
     "data": {
      "text/plain": [
       "[MonthlyExpense('January',2200),\n",
       " MonthlyExpense('February',2350),\n",
       " MonthlyExpense('March',2600),\n",
       " MonthlyExpense('April',2130),\n",
       " MonthlyExpense('May',2190),\n",
       " MonthlyExpense('June',1980)]"
      ]
     },
     "metadata": {},
     "output_type": "display_data"
    }
   ],
   "source": [
    "monthly_expense.append(MonthlyExpense('June', 1980))\n",
    "display(monthly_expense)"
   ]
  },
  {
   "cell_type": "markdown",
   "id": "1aaa0342-5d25-4d2b-89e6-7f0e5d87ff67",
   "metadata": {},
   "source": [
    "5. You returned an item that you bought in a month of April and got a refund of 200$. Make a correction to your monthly expense list based on this"
   ]
  },
  {
   "cell_type": "code",
   "execution_count": 33,
   "id": "95de8578-087f-488f-9f62-c7811d31e13d",
   "metadata": {},
   "outputs": [
    {
     "data": {
      "text/plain": [
       "[MonthlyExpense('January',2200),\n",
       " MonthlyExpense('February',2350),\n",
       " MonthlyExpense('March',2600),\n",
       " MonthlyExpense('April',1930),\n",
       " MonthlyExpense('May',2190),\n",
       " MonthlyExpense('June',1980)]"
      ]
     },
     "metadata": {},
     "output_type": "display_data"
    }
   ],
   "source": [
    "for expense in monthly_expense:\n",
    "    if expense.month == 'April':\n",
    "        expense.expense = 1930\n",
    "\n",
    "display(monthly_expense)"
   ]
  },
  {
   "cell_type": "code",
   "execution_count": null,
   "id": "c5077503-bb2e-4091-9c2b-197a8b661f60",
   "metadata": {},
   "outputs": [],
   "source": []
  }
 ],
 "metadata": {
  "kernelspec": {
   "display_name": "Python 3 (ipykernel)",
   "language": "python",
   "name": "python3"
  },
  "language_info": {
   "codemirror_mode": {
    "name": "ipython",
    "version": 3
   },
   "file_extension": ".py",
   "mimetype": "text/x-python",
   "name": "python",
   "nbconvert_exporter": "python",
   "pygments_lexer": "ipython3",
   "version": "3.11.5"
  }
 },
 "nbformat": 4,
 "nbformat_minor": 5
}
